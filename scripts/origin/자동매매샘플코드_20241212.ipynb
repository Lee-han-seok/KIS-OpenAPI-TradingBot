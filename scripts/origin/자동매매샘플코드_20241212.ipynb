{
 "cells": [
  {
   "cell_type": "code",
   "execution_count": 290,
   "id": "ddca296d-d443-4449-960c-0f828b870d66",
   "metadata": {},
   "outputs": [],
   "source": [
    "import requests\n",
    "import json\n",
    "import time\n",
    "from utils import KISOpenAPI\n",
    "\n",
    "class StockTrader:\n",
    "    def __init__(self):\n",
    "        # 사용자 입력을 통해 config_path 결정\n",
    "        config_choice = input(\"1: 운영계, 2: 개발계, 3: 모의투자 계정 파일을 선택하세요: \")\n",
    "\n",
    "        if config_choice == '1':\n",
    "            self.config_path = 'config.yaml'  # 운영계 파일\n",
    "            self.token_file = 'token.json'  # 운영계 token 파일\n",
    "            self.tr_id_prefix = \"T\"  # 운영계 tr_id 접두어\n",
    "        elif config_choice == '2':\n",
    "            self.config_path = 'config_dev.yaml'  # 개발계 파일\n",
    "            self.token_file = 'token_dev.json'  # 개발계 token 파일\n",
    "            self.tr_id_prefix = \"T\"  # 개발계 tr_id 접두어\n",
    "        elif config_choice == '3':\n",
    "            self.config_path = 'config_vts.yaml'  # 모의투자 파일\n",
    "            self.token_file = 'token_vts.json'  # 모의투자 token 파일\n",
    "            self.tr_id_prefix = \"V\"  # 모의투자 tr_id 접두어\n",
    "        else:\n",
    "            print(\"잘못된 입력입니다. 기본값인 'config_dev.yaml'로 설정됩니다.\")\n",
    "            self.config_path = 'config_dev.yaml'\n",
    "            self.token_file = 'token_dev.json'  # 기본값: 개발계 token 파일\n",
    "            self.tr_id_prefix = \"T\"  # 기본값: 개발계\n",
    "\n",
    "        self.api = KISOpenAPI(config_path=self.config_path, token_file=self.token_file)\n",
    "        self.ACCESS_TOKEN = self.api.get_token()\n",
    "        self.URL_BASE = self.api.URL_BASE\n",
    "        self.CANO = self.api.CANO\n",
    "        self.ACNT_PRDT_CD = self.api.ACNT_PRDT_CD\n",
    "\n",
    "    def get_possible_buy_qty(self, code=\"005930\"):\n",
    "        # 매수 가능 수량 조회\n",
    "        PATH = \"uapi/domestic-stock/v1/trading/inquire-psbl-order\"\n",
    "        URL = f\"{self.URL_BASE}/{PATH}\"\n",
    "        headers = {\n",
    "            \"Content-Type\": \"application/json\",\n",
    "            \"authorization\": f\"Bearer {self.ACCESS_TOKEN}\",\n",
    "            \"appKey\": self.api.APP_KEY,\n",
    "            \"appSecret\": self.api.APP_SECRET,\n",
    "            \"tr_id\": f\"{self.tr_id_prefix}TTC8908R\",  # tr_id 변경\n",
    "            \"custtype\": \"P\",\n",
    "        }\n",
    "        params = {\n",
    "            \"CANO\": self.CANO,\n",
    "            \"ACNT_PRDT_CD\": self.ACNT_PRDT_CD,\n",
    "            \"PDNO\": code,\n",
    "            \"ORD_UNPR\": \"0\",\n",
    "            \"ORD_DVSN\": \"01\",\n",
    "            \"CMA_EVLU_AMT_ICLD_YN\": \"Y\",\n",
    "            \"OVRS_ICLD_YN\": \"Y\",\n",
    "        }\n",
    "        time.sleep(0.05)\n",
    "        # print(params, headers)\n",
    "        res = requests.get(URL, headers=headers, params=params)\n",
    "        buy_qty = res.json()[\"output\"][\"nrcvb_buy_qty\"]\n",
    "        return int(buy_qty)\n",
    "\n",
    "    def buy_stock(self, code=\"005930\", qty=1):\n",
    "        # 주식 매수\n",
    "        PATH = \"uapi/domestic-stock/v1/trading/order-cash\"\n",
    "        URL = f\"{self.URL_BASE}/{PATH}\"\n",
    "        data = {\n",
    "            \"CANO\": self.CANO,\n",
    "            \"ACNT_PRDT_CD\": self.ACNT_PRDT_CD,\n",
    "            \"PDNO\": code,\n",
    "            \"ORD_DVSN\": \"01\",\n",
    "            \"ORD_QTY\": str(qty),\n",
    "            \"ORD_UNPR\": \"0\",\n",
    "        }\n",
    "        headers = {\n",
    "            \"Content-Type\": \"application/json\",\n",
    "            \"authorization\": f\"Bearer {self.ACCESS_TOKEN}\",\n",
    "            \"appKey\": self.api.APP_KEY,\n",
    "            \"appSecret\": self.api.APP_SECRET,\n",
    "            \"tr_id\": f\"{self.tr_id_prefix}TTC0802U\",  # tr_id 변경\n",
    "            \"custtype\": \"P\",\n",
    "        }\n",
    "        \n",
    "        time.sleep(0.05)\n",
    "        res = requests.post(URL, headers=headers, data=json.dumps(data))\n",
    "        # print(res.json())\n",
    "        return res.json()\n",
    "\n",
    "    def get_possible_sell_qty(self, code=\"005930\"):\n",
    "        # 모의투자에서는 매도 가능 조회 API를 호출하지 않음\n",
    "        if self.tr_id_prefix == \"V\":  # 모의투자 환경에서는 매도 가능 조회하지 않음\n",
    "            return 1\n",
    "\n",
    "        # 운영계/개발계 환경에서 매도 가능 수량 조회\n",
    "        PATH = \"uapi/domestic-stock/v1/trading/inquire-psbl-order\"\n",
    "        URL = f\"{self.URL_BASE}/{PATH}\"\n",
    "        headers = {\n",
    "            \"Content-Type\": \"application/json\",\n",
    "            \"authorization\": f\"Bearer {self.ACCESS_TOKEN}\",\n",
    "            \"appKey\": self.api.APP_KEY,\n",
    "            \"appSecret\": self.api.APP_SECRET,\n",
    "            \"tr_id\": f\"{self.tr_id_prefix}TTC8408R\",  # 매도 가능 조회 tr_id\n",
    "            \"custtype\": \"P\",\n",
    "        }\n",
    "        params = {\n",
    "            \"CANO\": self.CANO,\n",
    "            \"ACNT_PRDT_CD\": self.ACNT_PRDT_CD,\n",
    "            \"PDNO\": code,\n",
    "        }\n",
    "        time.sleep(0.05)\n",
    "        # print(headers,params)\n",
    "        res = requests.get(URL, headers=headers, params=params)\n",
    "        # print(res.json())\n",
    "        sell_qty = res.json()[\"output\"][\"ord_psbl_qty\"]\n",
    "        return int(sell_qty)\n",
    "\n",
    "    def sell_stock(self, code=\"005930\", qty=1):\n",
    "        # 주식 매도\n",
    "        PATH = \"uapi/domestic-stock/v1/trading/order-cash\"\n",
    "        URL = f\"{self.URL_BASE}/{PATH}\"\n",
    "        data = {\n",
    "            \"CANO\": self.CANO,\n",
    "            \"ACNT_PRDT_CD\": self.ACNT_PRDT_CD,\n",
    "            \"PDNO\": code,\n",
    "            \"ORD_DVSN\": \"01\",\n",
    "            \"ORD_QTY\": str(qty),\n",
    "            \"ORD_UNPR\": \"0\",\n",
    "        }\n",
    "        headers = {\n",
    "            \"Content-Type\": \"application/json\",\n",
    "            \"authorization\": f\"Bearer {self.ACCESS_TOKEN}\",\n",
    "            \"appKey\": self.api.APP_KEY,\n",
    "            \"appSecret\": self.api.APP_SECRET,\n",
    "            \"tr_id\": f\"{self.tr_id_prefix}TTC0801U\",  # tr_id 변경\n",
    "            \"custtype\": \"P\",\n",
    "        }\n",
    "        time.sleep(0.05)\n",
    "        res = requests.post(URL, headers=headers, data=json.dumps(data))\n",
    "        return res.json()\n",
    "\n",
    "    def read_last_value(self):\n",
    "        # last_value.txt 파일 읽기\n",
    "        try:\n",
    "            with open('last_value.txt', 'r') as file:\n",
    "                return int(file.read().strip())\n",
    "        except FileNotFoundError:\n",
    "            print(\"Error: 'last_value.txt' file not found.\")\n",
    "            return None\n",
    "        except ValueError:\n",
    "            print(\"Error: Invalid value in 'last_value.txt'.\")\n",
    "            return None\n",
    "\n",
    "    def execute_trade_based_on_last_value(self, code=\"005930\"):\n",
    "        last_value = self.read_last_value()\n",
    "\n",
    "        if last_value is None:\n",
    "            print(\"매수/매도 여부를 결정할 수 없습니다.\")\n",
    "            return\n",
    "\n",
    "        if last_value == 1:\n",
    "            # 매수 실행\n",
    "            buy_qty = self.get_possible_buy_qty(code)\n",
    "            if buy_qty > 0:\n",
    "                print(f\"매수 가능한 수량은 {buy_qty}주입니다. 매수하시겠습니까? (y/n): \", end=\"\")\n",
    "                decision = input()\n",
    "                if decision.lower() == \"y\":\n",
    "                    buy_result = self.buy_stock(code, buy_qty)\n",
    "                    print(f\"매수 실행: 가능 수량 {buy_qty}주, 매수 결과: {buy_result}\")\n",
    "                else:\n",
    "                    print(\"매수를 취소하였습니다.\")\n",
    "            else:\n",
    "                print(f\"{code}에 대해 매수 가능한 수량이 없습니다.\")\n",
    "        elif last_value == 0:\n",
    "            # 매도 실행\n",
    "            sell_qty = self.get_possible_sell_qty(code)\n",
    "            if sell_qty > 0:\n",
    "                print(f\"매도 가능한 수량은 {sell_qty}주입니다. 매도하시겠습니까? (y/n): \", end=\"\")\n",
    "                decision = input()\n",
    "                if decision.lower() == \"y\":\n",
    "                    sell_result = self.sell_stock(code, sell_qty)\n",
    "                    print(f\"매도 실행: 가능 수량 {sell_qty}주, 매도 결과: {sell_result}\")\n",
    "                else:\n",
    "                    print(\"매도를 취소하였습니다.\")\n",
    "            else:\n",
    "                print(f\"{code}에 대해 매도 가능한 수량이 없습니다.\")\n",
    "        else:\n",
    "            print(\"Error: 'last_value.txt' 파일에 유효하지 않은 값이 있습니다. 값은 0 또는 1이어야 합니다.\")"
   ]
  },
  {
   "cell_type": "markdown",
   "id": "e9150478-97b1-4d7b-ab97-d8d05422c975",
   "metadata": {},
   "source": [
    "### **코드 실행**"
   ]
  },
  {
   "cell_type": "markdown",
   "id": "c1d080ce-7fd2-4e43-8f38-9cf32f3f0202",
   "metadata": {},
   "source": [
    "* 종목(360200) 에 대해서 last_value.txt가 0이면 가능수량만큼 전체 매수, 1이면 가능수량만큼 전체 매도\n",
    "* 사용자 입력을 받아 ① 환경설정(1: 운영계, 2: 개발계, 3: 모의투자) 및 ② 주문실행 전 체크를 받음"
   ]
  },
  {
   "cell_type": "code",
   "execution_count": 292,
   "id": "905858c4-d51d-46c1-b288-0fd9dd4b40d4",
   "metadata": {},
   "outputs": [
    {
     "name": "stdin",
     "output_type": "stream",
     "text": [
      "1: 운영계, 2: 개발계, 3: 모의투자 계정 파일을 선택하세요:  1\n"
     ]
    },
    {
     "name": "stdout",
     "output_type": "stream",
     "text": [
      "기존 토큰을 사용합니다.\n",
      "매수 가능한 수량은 17주입니다. 매수하시겠습니까? (y/n): "
     ]
    },
    {
     "name": "stdin",
     "output_type": "stream",
     "text": [
      " y\n"
     ]
    },
    {
     "name": "stdout",
     "output_type": "stream",
     "text": [
      "매수 실행: 가능 수량 17주, 매수 결과: {'rt_cd': '7', 'msg_cd': 'APBK0918', 'msg1': '장운영시간이 아닙니다.(아침동시호가개시(110) 주문불가시간)'}\n"
     ]
    }
   ],
   "source": [
    "# 1. 운영계\n",
    "if __name__ == \"__main__\":\n",
    "    trader = StockTrader()\n",
    "\n",
    "    # 주식 매수/매도 여부 결정 및 실행\n",
    "    trader.execute_trade_based_on_last_value(\"360200\")"
   ]
  },
  {
   "cell_type": "code",
   "execution_count": 294,
   "id": "26a1619f-c67b-407d-958d-5920e2ca5f64",
   "metadata": {},
   "outputs": [
    {
     "name": "stdin",
     "output_type": "stream",
     "text": [
      "1: 운영계, 2: 개발계, 3: 모의투자 계정 파일을 선택하세요:  2\n"
     ]
    },
    {
     "name": "stdout",
     "output_type": "stream",
     "text": [
      "기존 토큰을 사용합니다.\n",
      "매수 가능한 수량은 206653주입니다. 매수하시겠습니까? (y/n): "
     ]
    },
    {
     "name": "stdin",
     "output_type": "stream",
     "text": [
      " y\n"
     ]
    },
    {
     "name": "stdout",
     "output_type": "stream",
     "text": [
      "매수 실행: 가능 수량 206653주, 매수 결과: {'rt_cd': '7', 'msg_cd': 'APBK0919', 'msg1': '장운영일자가 주문일과 상이합니다'}\n"
     ]
    }
   ],
   "source": [
    "# 2. 개발계\n",
    "if __name__ == \"__main__\":\n",
    "    trader = StockTrader()\n",
    "\n",
    "    # 주식 매수/매도 여부 결정 및 실행\n",
    "    trader.execute_trade_based_on_last_value(\"360200\")"
   ]
  },
  {
   "cell_type": "code",
   "execution_count": 296,
   "id": "7cb24dd6-7719-4875-829f-a1aaa9ad6622",
   "metadata": {},
   "outputs": [
    {
     "name": "stdin",
     "output_type": "stream",
     "text": [
      "1: 운영계, 2: 개발계, 3: 모의투자 계정 파일을 선택하세요:  3\n"
     ]
    },
    {
     "name": "stdout",
     "output_type": "stream",
     "text": [
      "기존 토큰을 사용합니다.\n",
      "매수 가능한 수량은 17607주입니다. 매수하시겠습니까? (y/n): "
     ]
    },
    {
     "name": "stdin",
     "output_type": "stream",
     "text": [
      " y\n"
     ]
    },
    {
     "name": "stdout",
     "output_type": "stream",
     "text": [
      "매수 실행: 가능 수량 17607주, 매수 결과: {'rt_cd': '1', 'msg_cd': '40570000', 'msg1': '모의투자 장시작전 입니다.'}\n"
     ]
    }
   ],
   "source": [
    "# 3. 모의투자\n",
    "if __name__ == \"__main__\":\n",
    "    trader = StockTrader()\n",
    "\n",
    "    # 주식 매수/매도 여부 결정 및 실행\n",
    "    trader.execute_trade_based_on_last_value(\"360200\")"
   ]
  }
 ],
 "metadata": {
  "kernelspec": {
   "display_name": "Python 3 (ipykernel)",
   "language": "python",
   "name": "python3"
  },
  "language_info": {
   "codemirror_mode": {
    "name": "ipython",
    "version": 3
   },
   "file_extension": ".py",
   "mimetype": "text/x-python",
   "name": "python",
   "nbconvert_exporter": "python",
   "pygments_lexer": "ipython3",
   "version": "3.12.4"
  }
 },
 "nbformat": 4,
 "nbformat_minor": 5
}

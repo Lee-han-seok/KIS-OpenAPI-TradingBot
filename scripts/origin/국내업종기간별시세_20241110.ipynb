{
 "cells": [
  {
   "cell_type": "code",
   "execution_count": null,
   "id": "115ca10a-7cd9-4fe1-9293-626b18ce0c7a",
   "metadata": {},
   "outputs": [],
   "source": [
    "# (0) 필요 모듈 임포트\n",
    "from datetime import datetime, timedelta\n",
    "import pandas as pd\n",
    "import requests\n",
    "import json\n",
    "import yaml\n",
    "import time\n",
    "\n",
    "# (1) 개인정보 파일 가져오기\n",
    "with open('config.yaml', encoding='UTF-8') as f:\n",
    "    _cfg = yaml.load(f, Loader=yaml.FullLoader)\n",
    "APP_KEY = _cfg['APP_KEY']\n",
    "APP_SECRET = _cfg['APP_SECRET']\n",
    "ACCESS_TOKEN = \"\"\n",
    "ACCESS_TOKEN_EXPIRED = \"\"\n",
    "CANO = _cfg['CANO']\n",
    "ACNT_PRDT_CD = _cfg['ACNT_PRDT_CD']\n",
    "URL_BASE = _cfg['URL_BASE']\n",
    "HTS_ID = _cfg['HTS_ID']\n",
    "print(APP_KEY, APP_SECRET, ACCESS_TOKEN, HTS_ID)\n",
    "\n",
    "# (2) 함수 정의\n",
    "## 1. 접근 토큰 발급\n",
    "def get_access_token():\n",
    "    \"\"\" OAuth 인증 > 접근토큰발급 \"\"\"\n",
    "    headers = {\"content-type\": \"application/json\"}\n",
    "    body = {\n",
    "        \"grant_type\": \"client_credentials\",\n",
    "        \"appkey\": APP_KEY,\n",
    "        \"appsecret\": APP_SECRET\n",
    "    }\n",
    "    PATH = \"oauth2/tokenP\"\n",
    "    URL = f\"{URL_BASE}/{PATH}\"\n",
    "\n",
    "    time.sleep(0.05)  # 유량제한 예방 (REST: 1초당 20건 제한)\n",
    "    res = requests.post(URL, headers=headers, data=json.dumps(body))\n",
    "\n",
    "    if res.status_code == 200:\n",
    "        try:\n",
    "            access_token = res.json().get(\"access_token\")\n",
    "            access_token_expired = res.json().get(\"access_token_token_expired\")  # 수정된 키\n",
    "            return access_token, access_token_expired\n",
    "        except KeyError as e:\n",
    "            print(f\"토큰 발급 중 키 에러 발생: {e}\")\n",
    "            print(res.json())\n",
    "            return None, None\n",
    "    else:\n",
    "        print(\"접근 토큰 발급이 불가능합니다. 응답 코드:\", res.status_code)\n",
    "        print(\"응답 내용:\", res.json())\n",
    "        return None, None"
   ]
  },
  {
   "cell_type": "code",
   "execution_count": null,
   "id": "9b5faacf-ba10-4b12-b661-e20b1a4f4118",
   "metadata": {},
   "outputs": [],
   "source": [
    "ACCESS_TOKEN, ACCESS_TOKEN_EXPIRED = get_access_token()\n",
    "ACCESS_TOKEN, ACCESS_TOKEN_EXPIRED"
   ]
  },
  {
   "cell_type": "code",
   "execution_count": 3,
   "id": "fd487753-3b53-451e-b5e8-7b9e5d60b5b2",
   "metadata": {},
   "outputs": [],
   "source": [
    "# 3. 호출 반복하여 데이터를 데이터프레임에 저장하는 함수\n",
    "def fetch_multiple_dates(index_code, start_date, num_calls):\n",
    "    # 데이터를 저장할 리스트\n",
    "    all_data = []\n",
    "    \n",
    "    # 첫 호출 날짜 설정\n",
    "    current_date = start_date\n",
    "    \n",
    "    for _ in range(num_calls):\n",
    "        # 데이터 호출\n",
    "        result = get_domestic_index_data(index_code, current_date)\n",
    "        \n",
    "        # API 호출 성공 시\n",
    "        if result and 'output2' in result:\n",
    "            # output2가 비어있는지 체크\n",
    "            if not result['output2']:\n",
    "                print(f\"데이터가 없습니다. 날짜: {current_date}\")\n",
    "                break  # 데이터가 없으면 종료\n",
    "            \n",
    "            all_data.extend(result['output2'])\n",
    "            \n",
    "            # 마지막 데이터의 \"stck_bsop_date\" 값을 추출하여 이전 날짜로 설정\n",
    "            last_stck_bsop_date = result['output2'][-1]['stck_bsop_date']\n",
    "            current_date = (datetime.strptime(last_stck_bsop_date, \"%Y%m%d\") - timedelta(days=1)).strftime(\"%Y%m%d\")\n",
    "        else:\n",
    "            print(f\"API 호출 실패 또는 예상 외의 응답: {result}\")\n",
    "            break  # 호출 실패 시 종료\n",
    "    \n",
    "    # 결과를 데이터프레임으로 변환\n",
    "    df = pd.DataFrame(all_data)\n",
    "    return df\n",
    "\n",
    "# 엑셀 파일로 내보내는 함수\n",
    "def save_to_excel(df, index_code, start_date, end_date):\n",
    "    # 파일 이름 설정 (index_code, 시작 날짜, 끝 날짜)\n",
    "    file_name = f\"{index_code}_daily_data_{start_date}_{end_date}.xlsx\"\n",
    "    \n",
    "    # 데이터프레임을 엑셀 파일로 저장\n",
    "    df.to_excel(file_name, index=False)\n",
    "    print(f\"파일 저장 완료: {file_name}\")"
   ]
  },
  {
   "cell_type": "code",
   "execution_count": 4,
   "id": "c42e0d8e-edab-4d8e-8b9d-810901123122",
   "metadata": {},
   "outputs": [
    {
     "ename": "NameError",
     "evalue": "name 'get_domestic_index_data' is not defined",
     "output_type": "error",
     "traceback": [
      "\u001b[1;31m---------------------------------------------------------------------------\u001b[0m",
      "\u001b[1;31mNameError\u001b[0m                                 Traceback (most recent call last)",
      "Cell \u001b[1;32mIn[4], line 7\u001b[0m\n\u001b[0;32m      4\u001b[0m num_calls \u001b[38;5;241m=\u001b[39m \u001b[38;5;241m200\u001b[39m  \u001b[38;5;66;03m# 호출할 횟수\u001b[39;00m\n\u001b[0;32m      6\u001b[0m \u001b[38;5;66;03m# 데이터 수집\u001b[39;00m\n\u001b[1;32m----> 7\u001b[0m df \u001b[38;5;241m=\u001b[39m \u001b[43mfetch_multiple_dates\u001b[49m\u001b[43m(\u001b[49m\u001b[43mindex_code\u001b[49m\u001b[43m,\u001b[49m\u001b[43m \u001b[49m\u001b[43mstart_date\u001b[49m\u001b[43m,\u001b[49m\u001b[43m \u001b[49m\u001b[43mnum_calls\u001b[49m\u001b[43m)\u001b[49m\n\u001b[0;32m      9\u001b[0m \u001b[38;5;66;03m# 첫 번째 및 마지막 데이터 일시 가져오기\u001b[39;00m\n\u001b[0;32m     10\u001b[0m \u001b[38;5;28;01mif\u001b[39;00m \u001b[38;5;129;01mnot\u001b[39;00m df\u001b[38;5;241m.\u001b[39mempty:\n",
      "Cell \u001b[1;32mIn[3], line 11\u001b[0m, in \u001b[0;36mfetch_multiple_dates\u001b[1;34m(index_code, start_date, num_calls)\u001b[0m\n\u001b[0;32m      7\u001b[0m current_date \u001b[38;5;241m=\u001b[39m start_date\n\u001b[0;32m      9\u001b[0m \u001b[38;5;28;01mfor\u001b[39;00m _ \u001b[38;5;129;01min\u001b[39;00m \u001b[38;5;28mrange\u001b[39m(num_calls):\n\u001b[0;32m     10\u001b[0m     \u001b[38;5;66;03m# 데이터 호출\u001b[39;00m\n\u001b[1;32m---> 11\u001b[0m     result \u001b[38;5;241m=\u001b[39m \u001b[43mget_domestic_index_data\u001b[49m(index_code, current_date)\n\u001b[0;32m     13\u001b[0m     \u001b[38;5;66;03m# API 호출 성공 시\u001b[39;00m\n\u001b[0;32m     14\u001b[0m     \u001b[38;5;28;01mif\u001b[39;00m result \u001b[38;5;129;01mand\u001b[39;00m \u001b[38;5;124m'\u001b[39m\u001b[38;5;124moutput2\u001b[39m\u001b[38;5;124m'\u001b[39m \u001b[38;5;129;01min\u001b[39;00m result:\n\u001b[0;32m     15\u001b[0m         \u001b[38;5;66;03m# output2가 비어있는지 체크\u001b[39;00m\n",
      "\u001b[1;31mNameError\u001b[0m: name 'get_domestic_index_data' is not defined"
     ]
    }
   ],
   "source": [
    "# 실행부분\n",
    "index_code = '0001'  # 예시 인덱스 코드\n",
    "start_date = datetime.today().strftime('%Y%m%d')  # 시작 날짜 = 오늘날짜\n",
    "num_calls = 200  # 호출할 횟수\n",
    "\n",
    "# 데이터 수집\n",
    "df = fetch_multiple_dates(index_code, start_date, num_calls)\n",
    "\n",
    "# 첫 번째 및 마지막 데이터 일시 가져오기\n",
    "if not df.empty:\n",
    "    first_date = df.iloc[0]['stck_bsop_date']\n",
    "    last_date = df.iloc[-1]['stck_bsop_date']\n",
    "    save_to_excel(df, index_code, first_date, last_date)\n",
    "else:\n",
    "    print(\"데이터가 없습니다.\")"
   ]
  },
  {
   "cell_type": "code",
   "execution_count": 5,
   "id": "4c630010-c3be-49b1-8980-2cd882912f2b",
   "metadata": {},
   "outputs": [
    {
     "ename": "NameError",
     "evalue": "name 'df' is not defined",
     "output_type": "error",
     "traceback": [
      "\u001b[1;31m---------------------------------------------------------------------------\u001b[0m",
      "\u001b[1;31mNameError\u001b[0m                                 Traceback (most recent call last)",
      "Cell \u001b[1;32mIn[5], line 1\u001b[0m\n\u001b[1;32m----> 1\u001b[0m \u001b[43mdf\u001b[49m  \u001b[38;5;66;03m# 19830104 ~ 20241108 기간의 코스피지수 일별시세\u001b[39;00m\n",
      "\u001b[1;31mNameError\u001b[0m: name 'df' is not defined"
     ]
    }
   ],
   "source": [
    "df  # 19830104 ~ 20241108 기간의 코스피지수 일별시세"
   ]
  },
  {
   "cell_type": "code",
   "execution_count": null,
   "id": "904f6307-acb6-43a4-9883-1739c70b9b89",
   "metadata": {},
   "outputs": [],
   "source": []
  }
 ],
 "metadata": {
  "kernelspec": {
   "display_name": "Python 3 (ipykernel)",
   "language": "python",
   "name": "python3"
  },
  "language_info": {
   "codemirror_mode": {
    "name": "ipython",
    "version": 3
   },
   "file_extension": ".py",
   "mimetype": "text/x-python",
   "name": "python",
   "nbconvert_exporter": "python",
   "pygments_lexer": "ipython3",
   "version": "3.12.4"
  }
 },
 "nbformat": 4,
 "nbformat_minor": 5
}
